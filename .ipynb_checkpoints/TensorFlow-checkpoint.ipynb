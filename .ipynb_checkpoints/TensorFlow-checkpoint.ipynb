{
 "cells": [
  {
   "cell_type": "code",
   "execution_count": 1,
   "metadata": {},
   "outputs": [
    {
     "name": "stdout",
     "output_type": "stream",
     "text": [
      "b'Hello World'\n"
     ]
    }
   ],
   "source": [
    "import tensorflow as tf\n",
    "\n",
    "hello_constant = tf.constant(\"Hello World\")\n",
    "\n",
    "with tf.Session() as sess:\n",
    "    output = sess.run(hello_constant)\n",
    "    print(output)"
   ]
  },
  {
   "cell_type": "code",
   "execution_count": 2,
   "metadata": {},
   "outputs": [
    {
     "name": "stdout",
     "output_type": "stream",
     "text": [
      "Tensor(\"Const_1:0\", shape=(), dtype=int32)\n",
      "Tensor(\"Const_2:0\", shape=(4,), dtype=int32)\n",
      "Tensor(\"Const_3:0\", shape=(2, 2), dtype=int32)\n"
     ]
    }
   ],
   "source": [
    "A = tf.constant(1234)\n",
    "print(A)\n",
    "\n",
    "B = tf.constant([123,4,5,6])\n",
    "print(B)\n",
    "\n",
    "C = tf.constant([[1,2],[3,4]])\n",
    "print(C)"
   ]
  },
  {
   "cell_type": "code",
   "execution_count": 3,
   "metadata": {},
   "outputs": [
    {
     "name": "stdout",
     "output_type": "stream",
     "text": [
      "1234\n",
      "[123   4   5   6]\n",
      "[[1 2]\n",
      " [3 4]]\n"
     ]
    }
   ],
   "source": [
    "with tf.Session() as sess:\n",
    "    o = sess.run(A)\n",
    "    print(o)\n",
    "    o = sess.run(B)\n",
    "    print(o)\n",
    "    o = sess.run(C)\n",
    "    print(o)"
   ]
  },
  {
   "cell_type": "code",
   "execution_count": 4,
   "metadata": {},
   "outputs": [
    {
     "name": "stdout",
     "output_type": "stream",
     "text": [
      "Manh Le\n"
     ]
    }
   ],
   "source": [
    "X = tf.placeholder(tf.string)\n",
    "with tf.Session() as sess:\n",
    "    o = sess.run(X,feed_dict={X:\"Manh Le\"})\n",
    "    print(o)\n",
    "    "
   ]
  },
  {
   "cell_type": "code",
   "execution_count": 5,
   "metadata": {},
   "outputs": [
    {
     "name": "stdout",
     "output_type": "stream",
     "text": [
      "Test\n",
      "1234\n"
     ]
    }
   ],
   "source": [
    "Y = tf.placeholder(tf.float32)\n",
    "Z = tf.placeholder(tf.int32)\n",
    "with tf.Session() as sess:\n",
    "    o = sess.run(X,feed_dict={X:'Test',Z:123})\n",
    "    print(o)\n",
    "    o = sess.run(Z,feed_dict={Z:1234})\n",
    "    print(o)"
   ]
  },
  {
   "cell_type": "code",
   "execution_count": 6,
   "metadata": {},
   "outputs": [],
   "source": [
    "Q = tf.add(2,3)\n",
    "W = tf.subtract(2.0,3)\n",
    "E = tf.multiply(1, 10)"
   ]
  },
  {
   "cell_type": "code",
   "execution_count": 7,
   "metadata": {},
   "outputs": [
    {
     "name": "stdout",
     "output_type": "stream",
     "text": [
      "5\n",
      "-1.0\n",
      "10\n"
     ]
    }
   ],
   "source": [
    "with tf.Session() as sess:\n",
    "    o = sess.run(Q)\n",
    "    print(o)\n",
    "    o = sess.run(W)\n",
    "    print(o)\n",
    "    o = sess.run(E)\n",
    "    print(o)"
   ]
  },
  {
   "cell_type": "code",
   "execution_count": 9,
   "metadata": {},
   "outputs": [],
   "source": [
    "v = tf.Variable(5)\n",
    "\n",
    "with tf.Session() as sess:\n",
    "    init = tf.global_variables_initializer()\n",
    "    sess.run(init)"
   ]
  },
  {
   "cell_type": "code",
   "execution_count": 10,
   "metadata": {},
   "outputs": [
    {
     "name": "stdout",
     "output_type": "stream",
     "text": [
      "<tf.Variable 'Variable_2:0' shape=(5, 3) dtype=float32_ref>\n",
      "[[-1.6448413  -0.8659866  -0.8345004 ]\n",
      " [-0.58875525 -0.1319069   0.8300994 ]\n",
      " [ 0.1847722  -1.5348847  -1.426194  ]\n",
      " [-0.34609386 -1.3861946   0.06452604]\n",
      " [-0.500658   -0.8833977   1.264997  ]]\n",
      "[0. 0. 0.]\n"
     ]
    }
   ],
   "source": [
    "n_features = 5\n",
    "n_labels = 3\n",
    "\n",
    "weights = tf.Variable(tf.truncated_normal((n_features,n_labels)))\n",
    "\n",
    "print(weights)\n",
    "with tf.Session() as sess:\n",
    "    init = tf.global_variables_initializer()\n",
    "    sess.run(init)\n",
    "    o = sess.run(weights)\n",
    "    print(o)\n",
    "\n",
    "\n",
    "bias =  tf.Variable(tf.zeros(n_labels))\n",
    "\n",
    "with tf.Session() as sess:\n",
    "    init = tf.global_variables_initializer()\n",
    "    sess.run(init)\n",
    "    o = sess.run(bias)\n",
    "    print(o)\n"
   ]
  },
  {
   "cell_type": "code",
   "execution_count": 11,
   "metadata": {},
   "outputs": [
    {
     "ename": "AttributeError",
     "evalue": "module 'tensorflow' has no attribute 'softmax'",
     "output_type": "error",
     "traceback": [
      "\u001b[1;31m---------------------------------------------------------------------------\u001b[0m",
      "\u001b[1;31mAttributeError\u001b[0m                            Traceback (most recent call last)",
      "\u001b[1;32m<ipython-input-11-680ce404c9fe>\u001b[0m in \u001b[0;36m<module>\u001b[1;34m()\u001b[0m\n\u001b[0;32m      1\u001b[0m \u001b[1;31m#Softmax\u001b[0m\u001b[1;33m\u001b[0m\u001b[1;33m\u001b[0m\u001b[0m\n\u001b[1;32m----> 2\u001b[1;33m \u001b[0mS\u001b[0m \u001b[1;33m=\u001b[0m \u001b[0mtf\u001b[0m\u001b[1;33m.\u001b[0m\u001b[0msoftmax\u001b[0m\u001b[1;33m(\u001b[0m\u001b[1;33m[\u001b[0m\u001b[1;36m2\u001b[0m\u001b[1;33m,\u001b[0m\u001b[1;36m5\u001b[0m\u001b[1;33m,\u001b[0m\u001b[1;36m1.0\u001b[0m\u001b[1;33m]\u001b[0m\u001b[1;33m)\u001b[0m\u001b[1;33m\u001b[0m\u001b[0m\n\u001b[0m\u001b[0;32m      3\u001b[0m \u001b[1;32mwith\u001b[0m \u001b[0mtf\u001b[0m\u001b[1;33m.\u001b[0m\u001b[0mSession\u001b[0m\u001b[1;33m(\u001b[0m\u001b[1;33m)\u001b[0m \u001b[1;32mas\u001b[0m \u001b[0msess\u001b[0m\u001b[1;33m:\u001b[0m\u001b[1;33m\u001b[0m\u001b[0m\n\u001b[0;32m      4\u001b[0m     \u001b[0mo\u001b[0m \u001b[1;33m=\u001b[0m \u001b[0msess\u001b[0m\u001b[1;33m.\u001b[0m\u001b[0mrun\u001b[0m\u001b[1;33m(\u001b[0m\u001b[0mS\u001b[0m\u001b[1;33m)\u001b[0m\u001b[1;33m\u001b[0m\u001b[0m\n\u001b[0;32m      5\u001b[0m     \u001b[0mprint\u001b[0m\u001b[1;33m(\u001b[0m\u001b[0mo\u001b[0m\u001b[1;33m)\u001b[0m\u001b[1;33m\u001b[0m\u001b[0m\n",
      "\u001b[1;31mAttributeError\u001b[0m: module 'tensorflow' has no attribute 'softmax'"
     ]
    }
   ],
   "source": [
    "#Softmax\n",
    "S = tf.nnm.softmax([2,5,1.0])\n",
    "with tf.Session() as sess:\n",
    "    o = sess.run(S)\n",
    "    print(o)\n"
   ]
  },
  {
   "cell_type": "code",
   "execution_count": null,
   "metadata": {},
   "outputs": [],
   "source": []
  }
 ],
 "metadata": {
  "kernelspec": {
   "display_name": "Python 3",
   "language": "python",
   "name": "python3"
  },
  "language_info": {
   "codemirror_mode": {
    "name": "ipython",
    "version": 3
   },
   "file_extension": ".py",
   "mimetype": "text/x-python",
   "name": "python",
   "nbconvert_exporter": "python",
   "pygments_lexer": "ipython3",
   "version": "3.6.1"
  }
 },
 "nbformat": 4,
 "nbformat_minor": 2
}
